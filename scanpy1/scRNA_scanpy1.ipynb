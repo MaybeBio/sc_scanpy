{
 "cells": [
  {
   "cell_type": "markdown",
   "metadata": {},
   "source": [
    "一，准备工作"
   ]
  },
  {
   "cell_type": "markdown",
   "metadata": {},
   "source": [
    "1，包的安装"
   ]
  },
  {
   "cell_type": "code",
   "execution_count": null,
   "metadata": {},
   "outputs": [],
   "source": [
    "#1，终端中安装使用pip\n",
    "pip install 'scanpy[leiden]'\n",
    "pip install python-igraph\n",
    "\n",
    "\n",
    "#2，使用conda安装，采用法2\n",
    "mamba create -n sc-python -c conda-forge -y scanpy python-igraph leidenalg python=3.12\n",
    "conda activate sc-python"
   ]
  },
  {
   "cell_type": "markdown",
   "metadata": {},
   "source": [
    "二， AnnData数据结构理解"
   ]
  },
  {
   "cell_type": "markdown",
   "metadata": {},
   "source": [
    "1，构建模拟Anndata对象并查看"
   ]
  },
  {
   "cell_type": "code",
   "execution_count": 1,
   "metadata": {},
   "outputs": [
    {
     "name": "stdout",
     "output_type": "stream",
     "text": [
      "0.11.3\n"
     ]
    }
   ],
   "source": [
    "# 导包\n",
    "import numpy as np\n",
    "import pandas as pd\n",
    "import anndata as ad #导入 anndata 库，并将其命名为 ad。anndata 是一个用于处理单细胞基因表达数据的库，提供了 AnnData 对象，用于存储和操作高维数据\n",
    "from scipy.sparse import csr_matrix #从 scipy.sparse 模块中导入 csr_matrix 类。csr_matrix 是一种压缩稀疏行矩阵格式，用于高效存储和操作稀疏矩阵\n",
    "print(ad.__version__)"
   ]
  },
  {
   "cell_type": "code",
   "execution_count": 2,
   "metadata": {},
   "outputs": [
    {
     "name": "stdout",
     "output_type": "stream",
     "text": [
      "这个AnnData对象包括100行，与2000列\n"
     ]
    }
   ],
   "source": [
    "# 模拟一个矩阵构建AnnData对象\n",
    "counts = csr_matrix(np.random.poisson(1, size=(100, 2000)), dtype=np.float32) #将生成的随机矩阵转换为 scipy.sparse 模块中的压缩稀疏行矩阵（CSR 格式），并指定数据类型为 float32\n",
    "temp_adata = ad.AnnData(counts) \n",
    "print(f\"这个AnnData对象包括{temp_adata.shape[0]}行，与{temp_adata.shape[1]}列\") #使用 anndata 库的 AnnData 类创建一个 AnnData 对象，并将稀疏矩阵 counts 作为数据存储在其中\n",
    "# 稀疏矩阵存放在temp_adata.X中"
   ]
  },
  {
   "cell_type": "code",
   "execution_count": 7,
   "metadata": {},
   "outputs": [
    {
     "name": "stdout",
     "output_type": "stream",
     "text": [
      "前五个细胞名称为:\n",
      "Index(['Cell_0', 'Cell_1', 'Cell_2', 'Cell_3', 'Cell_4'], dtype='object')\n"
     ]
    }
   ],
   "source": [
    "# 生成细胞名称并传递给obs_names\n",
    "temp_adata.obs_names = [f\"Cell_{i:d}\" for i in range(temp_adata.n_obs)]\n",
    "# 生成基因名称并传递给var_names\n",
    "temp_adata.var_names = [f\"Gene_{i:d}\" for i in range(temp_adata.n_vars)]\n",
    "\n",
    "print(f\"前五个细胞名称为:\\n{temp_adata.obs_names[:5]}\")"
   ]
  },
  {
   "cell_type": "code",
   "execution_count": null,
   "metadata": {},
   "outputs": [
    {
     "data": {
      "text/plain": [
       "View of AnnData object with n_obs × n_vars = 2 × 2"
      ]
     },
     "execution_count": 17,
     "metadata": {},
     "output_type": "execute_result"
    }
   ],
   "source": [
    "# 那么子集就可以这么取:行列切片\n",
    "temp_adata[[\"Cell_1\", \"Cell_10\"], [\"Gene_5\", \"Gene_1900\"]]\n",
    "# 这样就得到了一个包含\"两个细胞\"、\"两个基因\"的表达矩阵"
   ]
  },
  {
   "cell_type": "markdown",
   "metadata": {},
   "source": [
    "2，添加注释信息"
   ]
  },
  {
   "cell_type": "code",
   "execution_count": 19,
   "metadata": {},
   "outputs": [
    {
     "name": "stdout",
     "output_type": "stream",
     "text": [
      "<class 'pandas.core.frame.DataFrame'>\n",
      "<class 'pandas.core.frame.DataFrame'>\n"
     ]
    }
   ],
   "source": [
    "print(type(temp_adata.obs))\n",
    "print(type(temp_adata.var))"
   ]
  },
  {
   "cell_type": "code",
   "execution_count": 32,
   "metadata": {},
   "outputs": [
    {
     "name": "stdout",
     "output_type": "stream",
     "text": [
      "ct的前10个元素为['B' 'T' 'Monocyte' 'B' 'Monocyte' 'B' 'Monocyte' 'B' 'T' 'Monocyte']\n"
     ]
    }
   ],
   "source": [
    "# 例如这里随机生成\"B\", \"T\", \"Monocyte\"三种细胞类型作为注释\n",
    "ct = np.random.choice([\"B\", \"T\", \"Monocyte\"], size=(temp_adata.n_obs,))\n",
    "print(f\"ct的前10个元素为{ct[0:10]}\")\n",
    "\n",
    "# 加入adata.obs中"
   ]
  },
  {
   "cell_type": "code",
   "execution_count": 41,
   "metadata": {},
   "outputs": [
    {
     "data": {
      "text/html": [
       "<div>\n",
       "<style scoped>\n",
       "    .dataframe tbody tr th:only-of-type {\n",
       "        vertical-align: middle;\n",
       "    }\n",
       "\n",
       "    .dataframe tbody tr th {\n",
       "        vertical-align: top;\n",
       "    }\n",
       "\n",
       "    .dataframe thead th {\n",
       "        text-align: right;\n",
       "    }\n",
       "</style>\n",
       "<table border=\"1\" class=\"dataframe\">\n",
       "  <thead>\n",
       "    <tr style=\"text-align: right;\">\n",
       "      <th></th>\n",
       "      <th>cell_type</th>\n",
       "    </tr>\n",
       "  </thead>\n",
       "  <tbody>\n",
       "    <tr>\n",
       "      <th>Cell_0</th>\n",
       "      <td>B</td>\n",
       "    </tr>\n",
       "    <tr>\n",
       "      <th>Cell_1</th>\n",
       "      <td>T</td>\n",
       "    </tr>\n",
       "    <tr>\n",
       "      <th>Cell_2</th>\n",
       "      <td>Monocyte</td>\n",
       "    </tr>\n",
       "    <tr>\n",
       "      <th>Cell_3</th>\n",
       "      <td>B</td>\n",
       "    </tr>\n",
       "    <tr>\n",
       "      <th>Cell_4</th>\n",
       "      <td>Monocyte</td>\n",
       "    </tr>\n",
       "    <tr>\n",
       "      <th>...</th>\n",
       "      <td>...</td>\n",
       "    </tr>\n",
       "    <tr>\n",
       "      <th>Cell_95</th>\n",
       "      <td>B</td>\n",
       "    </tr>\n",
       "    <tr>\n",
       "      <th>Cell_96</th>\n",
       "      <td>Monocyte</td>\n",
       "    </tr>\n",
       "    <tr>\n",
       "      <th>Cell_97</th>\n",
       "      <td>T</td>\n",
       "    </tr>\n",
       "    <tr>\n",
       "      <th>Cell_98</th>\n",
       "      <td>B</td>\n",
       "    </tr>\n",
       "    <tr>\n",
       "      <th>Cell_99</th>\n",
       "      <td>T</td>\n",
       "    </tr>\n",
       "  </tbody>\n",
       "</table>\n",
       "<p>100 rows × 1 columns</p>\n",
       "</div>"
      ],
      "text/plain": [
       "        cell_type\n",
       "Cell_0          B\n",
       "Cell_1          T\n",
       "Cell_2   Monocyte\n",
       "Cell_3          B\n",
       "Cell_4   Monocyte\n",
       "...           ...\n",
       "Cell_95         B\n",
       "Cell_96  Monocyte\n",
       "Cell_97         T\n",
       "Cell_98         B\n",
       "Cell_99         T\n",
       "\n",
       "[100 rows x 1 columns]"
      ]
     },
     "execution_count": 41,
     "metadata": {},
     "output_type": "execute_result"
    }
   ],
   "source": [
    "temp_adata.obs[\"cell_type\"] = pd.Categorical(ct)  # Categorical的执行效率较高\n",
    "\n",
    "# 可以看到adata.obs已经包含了我们刚刚添加的注释\n",
    "temp_adata.obs"
   ]
  },
  {
   "cell_type": "code",
   "execution_count": 44,
   "metadata": {},
   "outputs": [
    {
     "name": "stdout",
     "output_type": "stream",
     "text": [
      "ct的前10个元素为['Pathway_B' 'Pathway_B' 'Pathway_C' 'Pathway_B' 'Pathway_A' 'Pathway_C'\n",
      " 'Pathway_B' 'Pathway_C' 'Pathway_C' 'Pathway_C']\n"
     ]
    }
   ],
   "source": [
    "# 例如这里随机生成\"Pathway_A\", \"Pathway_B\", \"Pathway_C\"三种通路名作为细胞的注释\n",
    "my_path = np.random.choice([\"Pathway_A\", \"Pathway_B\", \"Pathway_C\"],\n",
    "                      size=(temp_adata.n_vars,))\n",
    "print(f\"ct的前10个元素为{my_path[0:10]}\")"
   ]
  },
  {
   "cell_type": "code",
   "execution_count": 45,
   "metadata": {},
   "outputs": [
    {
     "data": {
      "text/html": [
       "<div>\n",
       "<style scoped>\n",
       "    .dataframe tbody tr th:only-of-type {\n",
       "        vertical-align: middle;\n",
       "    }\n",
       "\n",
       "    .dataframe tbody tr th {\n",
       "        vertical-align: top;\n",
       "    }\n",
       "\n",
       "    .dataframe thead th {\n",
       "        text-align: right;\n",
       "    }\n",
       "</style>\n",
       "<table border=\"1\" class=\"dataframe\">\n",
       "  <thead>\n",
       "    <tr style=\"text-align: right;\">\n",
       "      <th></th>\n",
       "      <th>my_pathway</th>\n",
       "    </tr>\n",
       "  </thead>\n",
       "  <tbody>\n",
       "    <tr>\n",
       "      <th>Gene_0</th>\n",
       "      <td>Pathway_B</td>\n",
       "    </tr>\n",
       "    <tr>\n",
       "      <th>Gene_1</th>\n",
       "      <td>Pathway_B</td>\n",
       "    </tr>\n",
       "    <tr>\n",
       "      <th>Gene_2</th>\n",
       "      <td>Pathway_C</td>\n",
       "    </tr>\n",
       "    <tr>\n",
       "      <th>Gene_3</th>\n",
       "      <td>Pathway_B</td>\n",
       "    </tr>\n",
       "    <tr>\n",
       "      <th>Gene_4</th>\n",
       "      <td>Pathway_A</td>\n",
       "    </tr>\n",
       "    <tr>\n",
       "      <th>...</th>\n",
       "      <td>...</td>\n",
       "    </tr>\n",
       "    <tr>\n",
       "      <th>Gene_1995</th>\n",
       "      <td>Pathway_B</td>\n",
       "    </tr>\n",
       "    <tr>\n",
       "      <th>Gene_1996</th>\n",
       "      <td>Pathway_B</td>\n",
       "    </tr>\n",
       "    <tr>\n",
       "      <th>Gene_1997</th>\n",
       "      <td>Pathway_A</td>\n",
       "    </tr>\n",
       "    <tr>\n",
       "      <th>Gene_1998</th>\n",
       "      <td>Pathway_C</td>\n",
       "    </tr>\n",
       "    <tr>\n",
       "      <th>Gene_1999</th>\n",
       "      <td>Pathway_C</td>\n",
       "    </tr>\n",
       "  </tbody>\n",
       "</table>\n",
       "<p>2000 rows × 1 columns</p>\n",
       "</div>"
      ],
      "text/plain": [
       "          my_pathway\n",
       "Gene_0     Pathway_B\n",
       "Gene_1     Pathway_B\n",
       "Gene_2     Pathway_C\n",
       "Gene_3     Pathway_B\n",
       "Gene_4     Pathway_A\n",
       "...              ...\n",
       "Gene_1995  Pathway_B\n",
       "Gene_1996  Pathway_B\n",
       "Gene_1997  Pathway_A\n",
       "Gene_1998  Pathway_C\n",
       "Gene_1999  Pathway_C\n",
       "\n",
       "[2000 rows x 1 columns]"
      ]
     },
     "execution_count": 45,
     "metadata": {},
     "output_type": "execute_result"
    }
   ],
   "source": [
    "temp_adata.var[\"my_pathway\"] = pd.Categorical(my_path)  # Categorical的执行效率较高\n",
    "\n",
    "# 可以看到adata.var已经包含了我们刚刚添加的注释\n",
    "temp_adata.var"
   ]
  },
  {
   "cell_type": "code",
   "execution_count": 46,
   "metadata": {},
   "outputs": [
    {
     "data": {
      "text/plain": [
       "AnnData object with n_obs × n_vars = 100 × 2000\n",
       "    obs: 'cell_type'\n",
       "    var: 'my_pathway'"
      ]
     },
     "execution_count": 46,
     "metadata": {},
     "output_type": "execute_result"
    }
   ],
   "source": [
    "# 这时这个AnnData对象就包含了我们所添加的cell_type以及my_pathway注释：\n",
    "temp_adata"
   ]
  },
  {
   "cell_type": "code",
   "execution_count": 52,
   "metadata": {},
   "outputs": [],
   "source": [
    "# 这时可以通过注释来选取数据的子集：\n",
    "# 取出B cell的细胞数据\n",
    "bcell_adata = temp_adata[temp_adata.obs.cell_type == \"B\",:]\n",
    "\n",
    "# 取出仅包含Pathway_A的基因数据：\n",
    "PA_adata = temp_adata[:,temp_adata.var.my_pathway == \"Pathway_A\"]"
   ]
  },
  {
   "cell_type": "code",
   "execution_count": 57,
   "metadata": {},
   "outputs": [
    {
     "data": {
      "text/html": [
       "<div>\n",
       "<style scoped>\n",
       "    .dataframe tbody tr th:only-of-type {\n",
       "        vertical-align: middle;\n",
       "    }\n",
       "\n",
       "    .dataframe tbody tr th {\n",
       "        vertical-align: top;\n",
       "    }\n",
       "\n",
       "    .dataframe thead th {\n",
       "        text-align: right;\n",
       "    }\n",
       "</style>\n",
       "<table border=\"1\" class=\"dataframe\">\n",
       "  <thead>\n",
       "    <tr style=\"text-align: right;\">\n",
       "      <th></th>\n",
       "      <th>time_yr</th>\n",
       "      <th>subject_id</th>\n",
       "      <th>instrument_type</th>\n",
       "      <th>site</th>\n",
       "    </tr>\n",
       "  </thead>\n",
       "  <tbody>\n",
       "    <tr>\n",
       "      <th>Cell_0</th>\n",
       "      <td>2</td>\n",
       "      <td>subject 2</td>\n",
       "      <td>type b</td>\n",
       "      <td>site y</td>\n",
       "    </tr>\n",
       "    <tr>\n",
       "      <th>Cell_1</th>\n",
       "      <td>0</td>\n",
       "      <td>subject 2</td>\n",
       "      <td>type a</td>\n",
       "      <td>site x</td>\n",
       "    </tr>\n",
       "    <tr>\n",
       "      <th>Cell_2</th>\n",
       "      <td>2</td>\n",
       "      <td>subject 8</td>\n",
       "      <td>type a</td>\n",
       "      <td>site x</td>\n",
       "    </tr>\n",
       "    <tr>\n",
       "      <th>Cell_3</th>\n",
       "      <td>4</td>\n",
       "      <td>subject 8</td>\n",
       "      <td>type b</td>\n",
       "      <td>site x</td>\n",
       "    </tr>\n",
       "    <tr>\n",
       "      <th>Cell_4</th>\n",
       "      <td>4</td>\n",
       "      <td>subject 1</td>\n",
       "      <td>type b</td>\n",
       "      <td>site x</td>\n",
       "    </tr>\n",
       "  </tbody>\n",
       "</table>\n",
       "</div>"
      ],
      "text/plain": [
       "        time_yr subject_id instrument_type    site\n",
       "Cell_0        2  subject 2          type b  site y\n",
       "Cell_1        0  subject 2          type a  site x\n",
       "Cell_2        2  subject 8          type a  site x\n",
       "Cell_3        4  subject 8          type b  site x\n",
       "Cell_4        4  subject 1          type b  site x"
      ]
     },
     "execution_count": 57,
     "metadata": {},
     "output_type": "execute_result"
    }
   ],
   "source": [
    "# 构建一个略显\"复杂\"的注释DataFrame\n",
    "obs_meta = pd.DataFrame({\n",
    "        'time_yr': np.random.choice([0, 2, 4, 8], temp_adata.n_obs),\n",
    "        'subject_id': np.random.choice(['subject 1', 'subject 2', 'subject 4', 'subject 8'], temp_adata.n_obs),\n",
    "        'instrument_type': np.random.choice(['type a', 'type b'], temp_adata.n_obs),\n",
    "        'site': np.random.choice(['site x', 'site y'], temp_adata.n_obs),\n",
    "    },\n",
    "    index=temp_adata.obs.index,   # 需要与AnnData的observations相一致\n",
    ")\n",
    "obs_meta.head()"
   ]
  },
  {
   "cell_type": "code",
   "execution_count": 59,
   "metadata": {},
   "outputs": [
    {
     "data": {
      "text/plain": [
       "AnnData object with n_obs × n_vars = 100 × 2000\n",
       "    obs: 'time_yr', 'subject_id', 'instrument_type', 'site'\n",
       "    var: 'my_pathway'"
      ]
     },
     "execution_count": 59,
     "metadata": {},
     "output_type": "execute_result"
    }
   ],
   "source": [
    "# 将注释添加到AnnData对象中:\n",
    "new_adata = ad.AnnData(temp_adata.X, obs=obs_meta, var=temp_adata.var)\n",
    "\n",
    "new_adata\n",
    "# 可以看到多出很多注释内容"
   ]
  },
  {
   "cell_type": "markdown",
   "metadata": {},
   "source": [
    "3，注释矩阵管理"
   ]
  },
  {
   "cell_type": "code",
   "execution_count": 66,
   "metadata": {},
   "outputs": [
    {
     "data": {
      "text/plain": [
       "AnnData object with n_obs × n_vars = 100 × 2000\n",
       "    obs: 'cell_type'\n",
       "    var: 'my_pathway'\n",
       "    obsm: 'X_umap'\n",
       "    varm: 'gene_stuff'"
      ]
     },
     "execution_count": 66,
     "metadata": {},
     "output_type": "execute_result"
    }
   ],
   "source": [
    "temp_adata.obsm[\"X_umap\"] = np.random.normal(0, 1, size=(temp_adata.n_obs, 2))\n",
    "temp_adata.varm[\"gene_stuff\"] = np.random.normal(0, 1, size=(temp_adata.n_vars, 5))\n",
    "temp_adata\n",
    "# 可以看到X_umap与gene_stuff数据被添加"
   ]
  },
  {
   "cell_type": "markdown",
   "metadata": {},
   "source": [
    "4，非结构性的注释信息"
   ]
  },
  {
   "cell_type": "code",
   "execution_count": 69,
   "metadata": {},
   "outputs": [
    {
     "data": {
      "text/plain": [
       "OrderedDict([('random', [1, 2, 3])])"
      ]
     },
     "execution_count": 69,
     "metadata": {},
     "output_type": "execute_result"
    }
   ],
   "source": [
    "temp_adata.uns[\"random\"] = [1, 2, 3]\n",
    "temp_adata.uns"
   ]
  },
  {
   "cell_type": "markdown",
   "metadata": {},
   "source": [
    "5，Layers"
   ]
  },
  {
   "cell_type": "code",
   "execution_count": 78,
   "metadata": {},
   "outputs": [
    {
     "data": {
      "text/plain": [
       "AnnData object with n_obs × n_vars = 100 × 2000\n",
       "    obs: 'cell_type'\n",
       "    var: 'my_pathway'\n",
       "    uns: 'random'\n",
       "    obsm: 'X_umap'\n",
       "    varm: 'gene_stuff'\n",
       "    layers: 'log_transformed'"
      ]
     },
     "execution_count": 78,
     "metadata": {},
     "output_type": "execute_result"
    }
   ],
   "source": [
    "temp_adata.layers[\"log_transformed\"] = np.log1p(temp_adata.X)\n",
    "temp_adata"
   ]
  },
  {
   "cell_type": "code",
   "execution_count": 79,
   "metadata": {},
   "outputs": [
    {
     "data": {
      "text/plain": [
       "Layers with keys: log_transformed"
      ]
     },
     "execution_count": 79,
     "metadata": {},
     "output_type": "execute_result"
    }
   ],
   "source": [
    "temp_adata.layers"
   ]
  },
  {
   "cell_type": "code",
   "execution_count": null,
   "metadata": {},
   "outputs": [
    {
     "data": {
      "text/html": [
       "<div>\n",
       "<style scoped>\n",
       "    .dataframe tbody tr th:only-of-type {\n",
       "        vertical-align: middle;\n",
       "    }\n",
       "\n",
       "    .dataframe tbody tr th {\n",
       "        vertical-align: top;\n",
       "    }\n",
       "\n",
       "    .dataframe thead th {\n",
       "        text-align: right;\n",
       "    }\n",
       "</style>\n",
       "<table border=\"1\" class=\"dataframe\">\n",
       "  <thead>\n",
       "    <tr style=\"text-align: right;\">\n",
       "      <th></th>\n",
       "      <th>Gene_0</th>\n",
       "      <th>Gene_1</th>\n",
       "      <th>Gene_2</th>\n",
       "      <th>Gene_3</th>\n",
       "      <th>Gene_4</th>\n",
       "      <th>Gene_5</th>\n",
       "      <th>Gene_6</th>\n",
       "      <th>Gene_7</th>\n",
       "      <th>Gene_8</th>\n",
       "      <th>Gene_9</th>\n",
       "      <th>...</th>\n",
       "      <th>Gene_1990</th>\n",
       "      <th>Gene_1991</th>\n",
       "      <th>Gene_1992</th>\n",
       "      <th>Gene_1993</th>\n",
       "      <th>Gene_1994</th>\n",
       "      <th>Gene_1995</th>\n",
       "      <th>Gene_1996</th>\n",
       "      <th>Gene_1997</th>\n",
       "      <th>Gene_1998</th>\n",
       "      <th>Gene_1999</th>\n",
       "    </tr>\n",
       "  </thead>\n",
       "  <tbody>\n",
       "    <tr>\n",
       "      <th>Cell_0</th>\n",
       "      <td>0.693147</td>\n",
       "      <td>0.000000</td>\n",
       "      <td>1.609438</td>\n",
       "      <td>0.693147</td>\n",
       "      <td>0.000000</td>\n",
       "      <td>0.000000</td>\n",
       "      <td>0.000000</td>\n",
       "      <td>0.693147</td>\n",
       "      <td>1.386294</td>\n",
       "      <td>0.693147</td>\n",
       "      <td>...</td>\n",
       "      <td>0.000000</td>\n",
       "      <td>0.000000</td>\n",
       "      <td>0.693147</td>\n",
       "      <td>0.693147</td>\n",
       "      <td>0.000000</td>\n",
       "      <td>0.693147</td>\n",
       "      <td>0.693147</td>\n",
       "      <td>0.693147</td>\n",
       "      <td>0.693147</td>\n",
       "      <td>1.386294</td>\n",
       "    </tr>\n",
       "    <tr>\n",
       "      <th>Cell_1</th>\n",
       "      <td>1.609438</td>\n",
       "      <td>0.693147</td>\n",
       "      <td>0.693147</td>\n",
       "      <td>1.098612</td>\n",
       "      <td>0.693147</td>\n",
       "      <td>0.000000</td>\n",
       "      <td>0.000000</td>\n",
       "      <td>0.693147</td>\n",
       "      <td>0.693147</td>\n",
       "      <td>0.693147</td>\n",
       "      <td>...</td>\n",
       "      <td>0.000000</td>\n",
       "      <td>0.693147</td>\n",
       "      <td>0.000000</td>\n",
       "      <td>0.693147</td>\n",
       "      <td>0.693147</td>\n",
       "      <td>0.000000</td>\n",
       "      <td>0.000000</td>\n",
       "      <td>0.000000</td>\n",
       "      <td>0.693147</td>\n",
       "      <td>0.693147</td>\n",
       "    </tr>\n",
       "    <tr>\n",
       "      <th>Cell_2</th>\n",
       "      <td>0.000000</td>\n",
       "      <td>0.000000</td>\n",
       "      <td>0.693147</td>\n",
       "      <td>0.693147</td>\n",
       "      <td>0.693147</td>\n",
       "      <td>0.000000</td>\n",
       "      <td>0.693147</td>\n",
       "      <td>0.000000</td>\n",
       "      <td>0.693147</td>\n",
       "      <td>0.000000</td>\n",
       "      <td>...</td>\n",
       "      <td>0.000000</td>\n",
       "      <td>1.386294</td>\n",
       "      <td>0.000000</td>\n",
       "      <td>0.000000</td>\n",
       "      <td>0.693147</td>\n",
       "      <td>0.000000</td>\n",
       "      <td>0.693147</td>\n",
       "      <td>0.000000</td>\n",
       "      <td>0.693147</td>\n",
       "      <td>1.098612</td>\n",
       "    </tr>\n",
       "    <tr>\n",
       "      <th>Cell_3</th>\n",
       "      <td>0.693147</td>\n",
       "      <td>0.693147</td>\n",
       "      <td>0.693147</td>\n",
       "      <td>0.693147</td>\n",
       "      <td>0.693147</td>\n",
       "      <td>0.693147</td>\n",
       "      <td>0.000000</td>\n",
       "      <td>0.000000</td>\n",
       "      <td>0.000000</td>\n",
       "      <td>0.693147</td>\n",
       "      <td>...</td>\n",
       "      <td>0.000000</td>\n",
       "      <td>1.386294</td>\n",
       "      <td>0.693147</td>\n",
       "      <td>0.693147</td>\n",
       "      <td>0.693147</td>\n",
       "      <td>1.098612</td>\n",
       "      <td>0.000000</td>\n",
       "      <td>0.693147</td>\n",
       "      <td>0.000000</td>\n",
       "      <td>0.000000</td>\n",
       "    </tr>\n",
       "    <tr>\n",
       "      <th>Cell_4</th>\n",
       "      <td>1.098612</td>\n",
       "      <td>1.609438</td>\n",
       "      <td>0.000000</td>\n",
       "      <td>1.098612</td>\n",
       "      <td>1.098612</td>\n",
       "      <td>0.693147</td>\n",
       "      <td>0.000000</td>\n",
       "      <td>0.000000</td>\n",
       "      <td>0.000000</td>\n",
       "      <td>0.000000</td>\n",
       "      <td>...</td>\n",
       "      <td>0.000000</td>\n",
       "      <td>1.098612</td>\n",
       "      <td>1.098612</td>\n",
       "      <td>1.098612</td>\n",
       "      <td>0.693147</td>\n",
       "      <td>0.693147</td>\n",
       "      <td>0.693147</td>\n",
       "      <td>0.000000</td>\n",
       "      <td>0.693147</td>\n",
       "      <td>0.693147</td>\n",
       "    </tr>\n",
       "    <tr>\n",
       "      <th>...</th>\n",
       "      <td>...</td>\n",
       "      <td>...</td>\n",
       "      <td>...</td>\n",
       "      <td>...</td>\n",
       "      <td>...</td>\n",
       "      <td>...</td>\n",
       "      <td>...</td>\n",
       "      <td>...</td>\n",
       "      <td>...</td>\n",
       "      <td>...</td>\n",
       "      <td>...</td>\n",
       "      <td>...</td>\n",
       "      <td>...</td>\n",
       "      <td>...</td>\n",
       "      <td>...</td>\n",
       "      <td>...</td>\n",
       "      <td>...</td>\n",
       "      <td>...</td>\n",
       "      <td>...</td>\n",
       "      <td>...</td>\n",
       "      <td>...</td>\n",
       "    </tr>\n",
       "    <tr>\n",
       "      <th>Cell_95</th>\n",
       "      <td>0.693147</td>\n",
       "      <td>1.386294</td>\n",
       "      <td>0.000000</td>\n",
       "      <td>0.000000</td>\n",
       "      <td>1.386294</td>\n",
       "      <td>0.693147</td>\n",
       "      <td>0.693147</td>\n",
       "      <td>0.693147</td>\n",
       "      <td>1.386294</td>\n",
       "      <td>0.693147</td>\n",
       "      <td>...</td>\n",
       "      <td>0.693147</td>\n",
       "      <td>0.000000</td>\n",
       "      <td>0.693147</td>\n",
       "      <td>0.693147</td>\n",
       "      <td>0.000000</td>\n",
       "      <td>0.693147</td>\n",
       "      <td>1.098612</td>\n",
       "      <td>0.693147</td>\n",
       "      <td>0.000000</td>\n",
       "      <td>0.000000</td>\n",
       "    </tr>\n",
       "    <tr>\n",
       "      <th>Cell_96</th>\n",
       "      <td>0.693147</td>\n",
       "      <td>0.000000</td>\n",
       "      <td>1.098612</td>\n",
       "      <td>0.693147</td>\n",
       "      <td>0.693147</td>\n",
       "      <td>0.693147</td>\n",
       "      <td>1.386294</td>\n",
       "      <td>0.000000</td>\n",
       "      <td>0.693147</td>\n",
       "      <td>0.000000</td>\n",
       "      <td>...</td>\n",
       "      <td>1.098612</td>\n",
       "      <td>0.693147</td>\n",
       "      <td>0.000000</td>\n",
       "      <td>0.000000</td>\n",
       "      <td>1.098612</td>\n",
       "      <td>0.693147</td>\n",
       "      <td>0.693147</td>\n",
       "      <td>0.000000</td>\n",
       "      <td>1.098612</td>\n",
       "      <td>0.693147</td>\n",
       "    </tr>\n",
       "    <tr>\n",
       "      <th>Cell_97</th>\n",
       "      <td>1.098612</td>\n",
       "      <td>0.000000</td>\n",
       "      <td>0.693147</td>\n",
       "      <td>0.000000</td>\n",
       "      <td>1.098612</td>\n",
       "      <td>0.693147</td>\n",
       "      <td>0.693147</td>\n",
       "      <td>0.693147</td>\n",
       "      <td>0.000000</td>\n",
       "      <td>0.000000</td>\n",
       "      <td>...</td>\n",
       "      <td>0.693147</td>\n",
       "      <td>0.000000</td>\n",
       "      <td>0.693147</td>\n",
       "      <td>0.000000</td>\n",
       "      <td>0.000000</td>\n",
       "      <td>0.693147</td>\n",
       "      <td>0.000000</td>\n",
       "      <td>0.693147</td>\n",
       "      <td>1.098612</td>\n",
       "      <td>0.000000</td>\n",
       "    </tr>\n",
       "    <tr>\n",
       "      <th>Cell_98</th>\n",
       "      <td>0.000000</td>\n",
       "      <td>0.693147</td>\n",
       "      <td>1.609438</td>\n",
       "      <td>0.693147</td>\n",
       "      <td>0.693147</td>\n",
       "      <td>0.000000</td>\n",
       "      <td>0.000000</td>\n",
       "      <td>0.000000</td>\n",
       "      <td>0.000000</td>\n",
       "      <td>1.098612</td>\n",
       "      <td>...</td>\n",
       "      <td>0.693147</td>\n",
       "      <td>0.000000</td>\n",
       "      <td>0.693147</td>\n",
       "      <td>0.000000</td>\n",
       "      <td>1.386294</td>\n",
       "      <td>1.791759</td>\n",
       "      <td>0.693147</td>\n",
       "      <td>0.000000</td>\n",
       "      <td>1.098612</td>\n",
       "      <td>0.000000</td>\n",
       "    </tr>\n",
       "    <tr>\n",
       "      <th>Cell_99</th>\n",
       "      <td>0.693147</td>\n",
       "      <td>1.098612</td>\n",
       "      <td>1.098612</td>\n",
       "      <td>1.386294</td>\n",
       "      <td>0.693147</td>\n",
       "      <td>1.098612</td>\n",
       "      <td>0.693147</td>\n",
       "      <td>0.693147</td>\n",
       "      <td>0.693147</td>\n",
       "      <td>0.693147</td>\n",
       "      <td>...</td>\n",
       "      <td>0.000000</td>\n",
       "      <td>1.098612</td>\n",
       "      <td>0.000000</td>\n",
       "      <td>0.000000</td>\n",
       "      <td>1.098612</td>\n",
       "      <td>1.386294</td>\n",
       "      <td>0.000000</td>\n",
       "      <td>0.693147</td>\n",
       "      <td>0.693147</td>\n",
       "      <td>0.693147</td>\n",
       "    </tr>\n",
       "  </tbody>\n",
       "</table>\n",
       "<p>100 rows × 2000 columns</p>\n",
       "</div>"
      ],
      "text/plain": [
       "           Gene_0    Gene_1    Gene_2    Gene_3    Gene_4    Gene_5    Gene_6  \\\n",
       "Cell_0   0.693147  0.000000  1.609438  0.693147  0.000000  0.000000  0.000000   \n",
       "Cell_1   1.609438  0.693147  0.693147  1.098612  0.693147  0.000000  0.000000   \n",
       "Cell_2   0.000000  0.000000  0.693147  0.693147  0.693147  0.000000  0.693147   \n",
       "Cell_3   0.693147  0.693147  0.693147  0.693147  0.693147  0.693147  0.000000   \n",
       "Cell_4   1.098612  1.609438  0.000000  1.098612  1.098612  0.693147  0.000000   \n",
       "...           ...       ...       ...       ...       ...       ...       ...   \n",
       "Cell_95  0.693147  1.386294  0.000000  0.000000  1.386294  0.693147  0.693147   \n",
       "Cell_96  0.693147  0.000000  1.098612  0.693147  0.693147  0.693147  1.386294   \n",
       "Cell_97  1.098612  0.000000  0.693147  0.000000  1.098612  0.693147  0.693147   \n",
       "Cell_98  0.000000  0.693147  1.609438  0.693147  0.693147  0.000000  0.000000   \n",
       "Cell_99  0.693147  1.098612  1.098612  1.386294  0.693147  1.098612  0.693147   \n",
       "\n",
       "           Gene_7    Gene_8    Gene_9  ...  Gene_1990  Gene_1991  Gene_1992  \\\n",
       "Cell_0   0.693147  1.386294  0.693147  ...   0.000000   0.000000   0.693147   \n",
       "Cell_1   0.693147  0.693147  0.693147  ...   0.000000   0.693147   0.000000   \n",
       "Cell_2   0.000000  0.693147  0.000000  ...   0.000000   1.386294   0.000000   \n",
       "Cell_3   0.000000  0.000000  0.693147  ...   0.000000   1.386294   0.693147   \n",
       "Cell_4   0.000000  0.000000  0.000000  ...   0.000000   1.098612   1.098612   \n",
       "...           ...       ...       ...  ...        ...        ...        ...   \n",
       "Cell_95  0.693147  1.386294  0.693147  ...   0.693147   0.000000   0.693147   \n",
       "Cell_96  0.000000  0.693147  0.000000  ...   1.098612   0.693147   0.000000   \n",
       "Cell_97  0.693147  0.000000  0.000000  ...   0.693147   0.000000   0.693147   \n",
       "Cell_98  0.000000  0.000000  1.098612  ...   0.693147   0.000000   0.693147   \n",
       "Cell_99  0.693147  0.693147  0.693147  ...   0.000000   1.098612   0.000000   \n",
       "\n",
       "         Gene_1993  Gene_1994  Gene_1995  Gene_1996  Gene_1997  Gene_1998  \\\n",
       "Cell_0    0.693147   0.000000   0.693147   0.693147   0.693147   0.693147   \n",
       "Cell_1    0.693147   0.693147   0.000000   0.000000   0.000000   0.693147   \n",
       "Cell_2    0.000000   0.693147   0.000000   0.693147   0.000000   0.693147   \n",
       "Cell_3    0.693147   0.693147   1.098612   0.000000   0.693147   0.000000   \n",
       "Cell_4    1.098612   0.693147   0.693147   0.693147   0.000000   0.693147   \n",
       "...            ...        ...        ...        ...        ...        ...   \n",
       "Cell_95   0.693147   0.000000   0.693147   1.098612   0.693147   0.000000   \n",
       "Cell_96   0.000000   1.098612   0.693147   0.693147   0.000000   1.098612   \n",
       "Cell_97   0.000000   0.000000   0.693147   0.000000   0.693147   1.098612   \n",
       "Cell_98   0.000000   1.386294   1.791759   0.693147   0.000000   1.098612   \n",
       "Cell_99   0.000000   1.098612   1.386294   0.000000   0.693147   0.693147   \n",
       "\n",
       "         Gene_1999  \n",
       "Cell_0    1.386294  \n",
       "Cell_1    0.693147  \n",
       "Cell_2    1.098612  \n",
       "Cell_3    0.000000  \n",
       "Cell_4    0.693147  \n",
       "...            ...  \n",
       "Cell_95   0.000000  \n",
       "Cell_96   0.693147  \n",
       "Cell_97   0.000000  \n",
       "Cell_98   0.000000  \n",
       "Cell_99   0.693147  \n",
       "\n",
       "[100 rows x 2000 columns]"
      ]
     },
     "execution_count": 82,
     "metadata": {},
     "output_type": "execute_result"
    }
   ],
   "source": [
    "temp_adata.to_df(layer=\"log_transformed\")# Layer也可以直接转换为矩阵\n"
   ]
  },
  {
   "cell_type": "code",
   "execution_count": 83,
   "metadata": {},
   "outputs": [],
   "source": [
    "# 也可以输出为csv文件：当然前面转换为数据框之后可以直接导出为csv文件\n",
    "temp_adata.to_df(layer=\"log_transformed\").to_csv(\"log_transformed.csv\")"
   ]
  },
  {
   "cell_type": "markdown",
   "metadata": {},
   "source": [
    "6，AnnData存储与读取"
   ]
  },
  {
   "cell_type": "code",
   "execution_count": null,
   "metadata": {},
   "outputs": [],
   "source": [
    "#保存为h5ad格式\n",
    "temp_adata.write('my_results.h5ad', compression=\"gzip\")"
   ]
  },
  {
   "cell_type": "code",
   "execution_count": 91,
   "metadata": {},
   "outputs": [
    {
     "name": "stderr",
     "output_type": "stream",
     "text": [
      "/home/csn/program/miniconda3/envs/sc-python/lib/python3.12/site-packages/anndata/__init__.py:52: FutureWarning: `anndata.read` is deprecated, use `anndata.read_h5ad` instead. `ad.read` will be removed in mid 2024.\n",
      "  warnings.warn(\n"
     ]
    },
    {
     "data": {
      "text/plain": [
       "True"
      ]
     },
     "execution_count": 91,
     "metadata": {},
     "output_type": "execute_result"
    }
   ],
   "source": [
    "adata = ad.read('my_results.h5ad', backed='r')\n",
    "adata.isbacked #此时my_results.h5ad处于open状态，即被占用的状态"
   ]
  },
  {
   "cell_type": "code",
   "execution_count": 110,
   "metadata": {},
   "outputs": [],
   "source": [
    "adata = ad.read_h5ad('my_results.h5ad', backed='r')\n",
    "adata.isbacked #此时my_results.h5ad处于open状态，即被占用的状态，输出为True\n",
    "\n",
    "# 此时adata可以被正常使用，且多出路径变量\n",
    "adata.filename\n",
    "\n",
    "# 当完成分析时可以解除占用：\n",
    "adata.file.close() \n",
    "# 这其实就是scanpy在分析相同的数据比Seurat占用更少内存的秘诀"
   ]
  },
  {
   "cell_type": "markdown",
   "metadata": {},
   "source": [
    "7，AnnData的Views与copies"
   ]
  },
  {
   "cell_type": "code",
   "execution_count": 111,
   "metadata": {},
   "outputs": [
    {
     "data": {
      "text/plain": [
       "View of AnnData object with n_obs × n_vars = 5 × 2\n",
       "    obs: 'cell_type'\n",
       "    var: 'my_pathway'\n",
       "    uns: 'random'\n",
       "    obsm: 'X_umap'\n",
       "    varm: 'gene_stuff'\n",
       "    layers: 'log_transformed'"
      ]
     },
     "execution_count": 111,
     "metadata": {},
     "output_type": "execute_result"
    }
   ],
   "source": [
    "# 在做View时候也可以使用切片：\n",
    "temp_adata[:5, ['Gene_1', 'Gene_3']]"
   ]
  },
  {
   "cell_type": "code",
   "execution_count": 112,
   "metadata": {},
   "outputs": [
    {
     "data": {
      "text/plain": [
       "AnnData object with n_obs × n_vars = 5 × 2\n",
       "    obs: 'cell_type'\n",
       "    var: 'my_pathway'\n",
       "    uns: 'random'\n",
       "    obsm: 'X_umap'\n",
       "    varm: 'gene_stuff'\n",
       "    layers: 'log_transformed'"
      ]
     },
     "execution_count": 112,
     "metadata": {},
     "output_type": "execute_result"
    }
   ],
   "source": [
    "# 而copy的方式会占据额外的内存\n",
    "adata_subset = temp_adata[:5, ['Gene_1', 'Gene_3']].copy()\n",
    "adata_subset"
   ]
  }
 ],
 "metadata": {
  "kernelspec": {
   "display_name": "sc-python",
   "language": "python",
   "name": "python3"
  },
  "language_info": {
   "codemirror_mode": {
    "name": "ipython",
    "version": 3
   },
   "file_extension": ".py",
   "mimetype": "text/x-python",
   "name": "python",
   "nbconvert_exporter": "python",
   "pygments_lexer": "ipython3",
   "version": "3.12.8"
  }
 },
 "nbformat": 4,
 "nbformat_minor": 2
}
